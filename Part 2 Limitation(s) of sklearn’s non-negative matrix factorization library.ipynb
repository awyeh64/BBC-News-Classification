{
 "cells": [
  {
   "cell_type": "markdown",
   "id": "3fe1741e",
   "metadata": {},
   "source": [
    "# Part 2: Limitation(s) of sklearn’s non-negative matrix factorization library<a name = '12'></a>"
   ]
  },
  {
   "cell_type": "markdown",
   "id": "f1ade056",
   "metadata": {},
   "source": [
    "Copying the code from the previous assignment, we setup our data here.  We then create a rating matrix from the test data as we are trying to input the missing ratings from there.\n",
    "\n",
    "For reference on creating predictions from matrix factorization, this page was viewed\n",
    "- https://www.kaggle.com/code/eminecerit/movie-recommender-matrix-factorization-based"
   ]
  },
  {
   "cell_type": "code",
   "execution_count": 1,
   "id": "b2c90509",
   "metadata": {},
   "outputs": [],
   "source": [
    "import pandas as pd\n",
    "import numpy as np\n",
    "import seaborn as sns\n",
    "import matplotlib.pyplot as plt\n",
    "from itertools import permutations\n",
    "\n",
    "from sklearn.cluster import KMeans\n",
    "from sklearn.decomposition import TruncatedSVD\n",
    "from sklearn.decomposition import NMF\n",
    "from sklearn.ensemble import RandomForestClassifier\n",
    "from sklearn.feature_extraction.text import TfidfVectorizer\n",
    "from sklearn.linear_model import LogisticRegression\n",
    "from sklearn.metrics import accuracy_score\n",
    "from sklearn.metrics import confusion_matrix\n",
    "from sklearn.metrics import mean_squared_error\n",
    "from sklearn.model_selection import train_test_split"
   ]
  },
  {
   "cell_type": "code",
   "execution_count": 2,
   "id": "669cd5f2",
   "metadata": {},
   "outputs": [],
   "source": [
    "from scipy.sparse import coo_matrix\n",
    "from collections import namedtuple\n",
    "\n",
    "MV_users = pd.read_csv('data/users.csv')\n",
    "MV_movies = pd.read_csv('data/movies.csv')\n",
    "train = pd.read_csv('data/train.csv')\n",
    "test = pd.read_csv('data/test.csv')\n",
    "\n",
    "Data = namedtuple('Data', ['users','movies','train','test'])\n",
    "data = Data(MV_users, MV_movies, train, test)\n",
    "\n",
    "allusers = list(data.users['uID'])\n",
    "allmovies = list(data.movies['mID'])\n",
    "mid2idx = dict(zip(data.movies.mID,list(range(len(data.movies)))))\n",
    "uid2idx = dict(zip(data.users.uID,list(range(len(data.users)))))\n",
    "\n",
    "ind_movie = [mid2idx[x] for x in data.test.mID] \n",
    "ind_user = [uid2idx[x] for x in data.test.uID]\n",
    "rating_test = list(data.test.rating)\n",
    "\n",
    "rating_matrix = np.array(coo_matrix((rating_test, (ind_user, ind_movie)), shape=(len(allusers), len(allmovies))).toarray())"
   ]
  },
  {
   "cell_type": "markdown",
   "id": "eee8bba8",
   "metadata": {},
   "source": [
    "First we setup our non-negative matrix factorization model / NMF to commit matrix factorization onto our ratings matrix.  Then we take the estimations of the missing data from when inverse transform the factorized matrix."
   ]
  },
  {
   "cell_type": "code",
   "execution_count": 3,
   "id": "8616c149",
   "metadata": {},
   "outputs": [],
   "source": [
    "%%capture\n",
    "\n",
    "nmf = NMF(n_components=5, random_state=42)\n",
    "nmf_m = nmf.fit_transform(rating_matrix)\n",
    "rating_matrix_p = nmf.inverse_transform(nmf_m)"
   ]
  },
  {
   "cell_type": "code",
   "execution_count": 4,
   "id": "4c736abc",
   "metadata": {
    "scrolled": false
   },
   "outputs": [
    {
     "data": {
      "text/plain": [
       "array([[0.27898817, 0.04264456, 0.05027784, ..., 0.00735833, 0.00564499,\n",
       "        0.0289247 ],\n",
       "       [0.20343133, 0.07627137, 0.02264149, ..., 0.0188216 , 0.01288191,\n",
       "        0.0712217 ],\n",
       "       [0.4194923 , 0.08842252, 0.0532148 , ..., 0.00689331, 0.        ,\n",
       "        0.00467821],\n",
       "       ...,\n",
       "       [0.08798879, 0.01713941, 0.02194985, ..., 0.00099939, 0.00080513,\n",
       "        0.00558201],\n",
       "       [0.20515588, 0.04216864, 0.05635916, ..., 0.01096005, 0.01031748,\n",
       "        0.05347384],\n",
       "       [0.66979071, 0.07099614, 0.01668803, ..., 0.06356899, 0.04919354,\n",
       "        0.22332462]])"
      ]
     },
     "execution_count": 4,
     "metadata": {},
     "output_type": "execute_result"
    }
   ],
   "source": [
    "rating_matrix_p"
   ]
  },
  {
   "cell_type": "markdown",
   "id": "985866c5",
   "metadata": {},
   "source": [
    "From our reconstructed matrix, we then find all of the missing values (denoted as 0) in our original matrix, and then input the equivalent value from the reconstructed matrix.  As seen above, it seems that the value of the predictions are not exactly the same as our 1 to 5 rating, and thus seem like they are scaled to be based around the middle of the range of possible values.  To combat this we adjust the prediction in order to cause it to be similar to the existing values.  We also keep track of the existing values in the testing set in order to compare our predictions with real labels."
   ]
  },
  {
   "cell_type": "code",
   "execution_count": 5,
   "id": "cb4b6507",
   "metadata": {},
   "outputs": [],
   "source": [
    "preds = rating_matrix.copy().astype(float)\n",
    "\n",
    "rmse_actual = np.array([]).astype(float)\n",
    "rmse_pred = np.array([]).astype(float)\n",
    "\n",
    "for i in range(preds.shape[0]):\n",
    "    for j in range(preds.shape[1]):\n",
    "        if preds[i][j] == 0:\n",
    "            preds[i][j] = rating_matrix_p[i][j] + 3\n",
    "        else:\n",
    "            rmse_actual = np.append(rmse_actual, preds[i][j])\n",
    "            rmse_pred = np.append(rmse_pred, rating_matrix_p[i][j] + 3)\n",
    "            \n",
    "preds = np.round(preds, decimals = 2)"
   ]
  },
  {
   "cell_type": "markdown",
   "id": "8c5ef648",
   "metadata": {},
   "source": [
    "Our finished predictions."
   ]
  },
  {
   "cell_type": "code",
   "execution_count": 6,
   "id": "a2af4b61",
   "metadata": {},
   "outputs": [
    {
     "data": {
      "text/plain": [
       "array([[3.28, 3.04, 3.05, ..., 3.01, 3.01, 3.03],\n",
       "       [3.2 , 3.08, 3.02, ..., 3.02, 3.01, 3.07],\n",
       "       [3.42, 3.09, 3.05, ..., 3.01, 3.  , 3.  ],\n",
       "       ...,\n",
       "       [3.09, 3.02, 3.02, ..., 3.  , 3.  , 3.01],\n",
       "       [3.21, 3.04, 3.06, ..., 3.01, 3.01, 3.05],\n",
       "       [3.67, 3.07, 3.02, ..., 3.06, 3.05, 3.22]])"
      ]
     },
     "execution_count": 6,
     "metadata": {},
     "output_type": "execute_result"
    }
   ],
   "source": [
    "preds"
   ]
  },
  {
   "cell_type": "markdown",
   "id": "cbf1a113",
   "metadata": {},
   "source": [
    "With our recorded data, we can also find the RMSE."
   ]
  },
  {
   "cell_type": "code",
   "execution_count": 7,
   "id": "cf1b3212",
   "metadata": {},
   "outputs": [
    {
     "data": {
      "text/plain": [
       "1.2090103575214424"
      ]
     },
     "execution_count": 7,
     "metadata": {},
     "output_type": "execute_result"
    }
   ],
   "source": [
    "mean_squared_error(rmse_actual, rmse_pred)"
   ]
  },
  {
   "cell_type": "markdown",
   "id": "71496c15",
   "metadata": {},
   "source": [
    "It seems that our NMF results did not do as well compared to last week's similarity based methods as our RMSE is worse than before.  NMF most likely does not function well when there are enourmous amount of missing or zero values, and one way to combat this would be to reduce the sparseness of the data with different matrix types, or to preprocess the data to make the data better suit NMF."
   ]
  },
  {
   "cell_type": "code",
   "execution_count": null,
   "id": "c0a6e960",
   "metadata": {},
   "outputs": [],
   "source": []
  }
 ],
 "metadata": {
  "kernelspec": {
   "display_name": "Python 3 (ipykernel)",
   "language": "python",
   "name": "python3"
  },
  "language_info": {
   "codemirror_mode": {
    "name": "ipython",
    "version": 3
   },
   "file_extension": ".py",
   "mimetype": "text/x-python",
   "name": "python",
   "nbconvert_exporter": "python",
   "pygments_lexer": "ipython3",
   "version": "3.9.13"
  }
 },
 "nbformat": 4,
 "nbformat_minor": 5
}
